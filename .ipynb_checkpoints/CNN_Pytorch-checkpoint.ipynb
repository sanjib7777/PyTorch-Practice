{
 "cells": [
  {
   "cell_type": "code",
   "execution_count": null,
   "id": "8ecf0685-b357-4364-b23b-2afe8e9b903b",
   "metadata": {},
   "outputs": [],
   "source": [
    "import pandas as pd\n",
    "from sklearn.model_selection import train_test_split\n",
    "import torch\n",
    "from torch.utils.data import Dataset, DataLoader\n",
    "import torch.nn as nn\n",
    "import torch.optim as optim\n",
    "import matplotlib.pyplot as plt"
   ]
  },
  {
   "cell_type": "code",
   "execution_count": null,
   "id": "2b3c502c-1afb-47e8-8f9f-f5ae30312b55",
   "metadata": {},
   "outputs": [],
   "source": [
    "# Set random seeds for reproducibility\n",
    "torch.manual_seed(42)"
   ]
  },
  {
   "cell_type": "code",
   "execution_count": null,
   "id": "2c769718-d0a3-43d2-a351-4ada3daf35f3",
   "metadata": {},
   "outputs": [],
   "source": [
    "# Check for GPU\n",
    "device = torch.device('cuda' if torch.cuda.is_available() else 'cpu')\n",
    "print(f\"Using device: {device}\")"
   ]
  },
  {
   "cell_type": "code",
   "execution_count": null,
   "id": "92c3cbe0-2b22-4c64-ae31-213d7024a749",
   "metadata": {},
   "outputs": [],
   "source": [
    "df = pd.read_csv('/content/fashion-mnist_train.csv')\n",
    "df.head()"
   ]
  },
  {
   "cell_type": "code",
   "execution_count": null,
   "id": "d081d082-ec28-4630-9553-58de3578571b",
   "metadata": {},
   "outputs": [],
   "source": [
    "# train test split\n",
    "\n",
    "X = df.iloc[:, 1:].values\n",
    "y = df.iloc[:, 0].values"
   ]
  },
  {
   "cell_type": "code",
   "execution_count": null,
   "id": "8b5056f9-a617-415c-ab88-c501297c47d0",
   "metadata": {},
   "outputs": [],
   "source": [
    "X_train, X_test, y_train, y_test = train_test_split(X, y, test_size=0.2, random_state=42)"
   ]
  },
  {
   "cell_type": "code",
   "execution_count": null,
   "id": "6dbb1d64-5611-48d0-aea0-fff82b298d8a",
   "metadata": {},
   "outputs": [],
   "source": [
    "X_train = X_train/255.0\n",
    "X_test = X_test/255.0"
   ]
  },
  {
   "cell_type": "code",
   "execution_count": null,
   "id": "bdccb730-7b01-4f83-b9b8-1fbac82fd1aa",
   "metadata": {},
   "outputs": [],
   "source": [
    "class CustomDataset(Dataset):\n",
    "\n",
    "  def __init__(self, features, labels):\n",
    "\n",
    "    # Convert to PyTorch tensors\n",
    "    self.features = torch.tensor(features, dtype=torch.float32).reshape(-1,1,28,28)\n",
    "    self.labels = torch.tensor(labels, dtype=torch.long)\n",
    "\n",
    "  def __len__(self):\n",
    "    return len(self.features)\n",
    "\n",
    "  def __getitem__(self, index):\n",
    "    return self.features[index], self.labels[index]"
   ]
  },
  {
   "cell_type": "code",
   "execution_count": null,
   "id": "1cc4c1ca-5c7d-45cc-bc90-de15a4ab4d38",
   "metadata": {},
   "outputs": [],
   "source": [
    "train_dataset = CustomDataset(X_train, y_train)\n",
    "test_dataset = CustomDataset(X_test, y_test)"
   ]
  },
  {
   "cell_type": "code",
   "execution_count": null,
   "id": "434b0d0e-7dff-4b7a-96a3-eb67efcfeef0",
   "metadata": {},
   "outputs": [],
   "source": [
    "train_loader = DataLoader(train_dataset, batch_size=32, shuffle=True, pin_memory=True)\n",
    "test_loader = DataLoader(test_dataset, batch_size=32, shuffle=False, pin_memory=True)   "
   ]
  },
  {
   "cell_type": "code",
   "execution_count": null,
   "id": "ed208b38-01a8-4223-897c-8d871b3fe8be",
   "metadata": {},
   "outputs": [],
   "source": [
    "class MyNN(nn.Module):\n",
    "\n",
    "  def __init__(self, input_features):\n",
    "\n",
    "    super().__init__()\n",
    "    \n",
    "    self.features = nn.Sequential(\n",
    "        nn.Conv2d(input_features, 32, kernel_size=3, padding='same'),\n",
    "        nn.BatchNorm2d(32),\n",
    "        nn.ReLU(),\n",
    "        nn.MaxPool2d(kernel_size=2, stride=2),\n",
    "        nn.Conv2d(32, 64, kernel_size=3, padding='same'),\n",
    "        nn.BatchNorm2d(64),\n",
    "        nn.ReLU(),\n",
    "        nn.MaxPool2d(kernel_size=2, stride=2)\n",
    "    )\n",
    "    self.classifier = nn.Sequential(\n",
    "        nn.Flatten(),\n",
    "        nn.Linear(64*7*7,128),\n",
    "        nn.ReLU(),\n",
    "        nn.Dropout(p=0.4),\n",
    "\n",
    "        nn.Linear(128,64),\n",
    "        nn.ReLU(),\n",
    "        nn.Dropout(p=0.4),\n",
    "\n",
    "        nn.Linear(64,10)\n",
    "\n",
    "    )\n",
    " def forward(self,x):\n",
    "     x = self.features(x)\n",
    "     x = self.classifier(x)\n",
    "     return x"
   ]
  },
  {
   "cell_type": "code",
   "execution_count": null,
   "id": "c1ef0a6c-388e-4772-8226-28b4761d8d28",
   "metadata": {},
   "outputs": [],
   "source": [
    "learning_rate = 0.01\n",
    "epochs = 50"
   ]
  },
  {
   "cell_type": "code",
   "execution_count": null,
   "id": "23da42f2-916f-4740-bfa0-b498a9ec797f",
   "metadata": {},
   "outputs": [],
   "source": [
    "model = MyNN(1)\n",
    "model.to(device)\n",
    "criterion = nn.CrossEntropyLoss()\n",
    "optimizer = optim.SGD(model.parameters(), lr=learning_rate , weight_decay=1e-4)"
   ]
  },
  {
   "cell_type": "code",
   "execution_count": null,
   "id": "c6c1cb53-2cb1-4e83-9f87-49091bebcaad",
   "metadata": {},
   "outputs": [],
   "source": [
    "for epoch in range(epochs):\n",
    "\n",
    "  total_epoch_loss = 0\n",
    "\n",
    "  for batch_features, batch_labels in train_loader:\n",
    "\n",
    "      # move data to gpu\n",
    "      batch_features, batch_labels = batch_features.to(device), batch_labels.to(device)\n",
    "      # forward pass\n",
    "      outputs = model(batch_features)\n",
    "\n",
    "      # calculate loss\n",
    "      loss = criterion(outputs, batch_labels)\n",
    "\n",
    "      # back pass\n",
    "      optimizer.zero_grad()\n",
    "      loss.backward()\n",
    "      optimizer.step()\n",
    "\n",
    "      total_epoch_loss = total_epoch_loss + loss.item()\n",
    "  avg_loss = total_epoch_loss/len(train_loader)\n",
    "  print(f'Epoch:{epoch+1}, Loss:{avg_loss}')"
   ]
  },
  {
   "cell_type": "code",
   "execution_count": null,
   "id": "d480b7f6-3b36-49a8-9289-55fc89a52188",
   "metadata": {},
   "outputs": [],
   "source": [
    "# evaluation\n",
    "model.eval()\n",
    "  # evaluation code\n",
    "total = 0\n",
    "correct = 0\n",
    "\n",
    "with torch.no_grad():\n",
    "\n",
    "    for batch_features, batch_labels in test_loader:\n",
    "\n",
    "      # move data to gpu\n",
    "      batch_features, batch_labels = batch_features.to(device), batch_labels.to(device)\n",
    "\n",
    "      outputs = model(batch_features)\n",
    "\n",
    "      _, predicted = torch.max(outputs, 1)\n",
    "\n",
    "      total = total + batch_labels.shape[0]\n",
    "      correct = correct + (predicted == batch_labels).sum().item()\n",
    "\n",
    "accuracy = correct/total\n",
    "print(accuracy)"
   ]
  },
  {
   "cell_type": "code",
   "execution_count": null,
   "id": "aeac9465-4b21-420b-a8db-8a4f426e15d8",
   "metadata": {},
   "outputs": [],
   "source": []
  }
 ],
 "metadata": {
  "kernelspec": {
   "display_name": "Python 3 (ipykernel)",
   "language": "python",
   "name": "python3"
  },
  "language_info": {
   "codemirror_mode": {
    "name": "ipython",
    "version": 3
   },
   "file_extension": ".py",
   "mimetype": "text/x-python",
   "name": "python",
   "nbconvert_exporter": "python",
   "pygments_lexer": "ipython3",
   "version": "3.12.6"
  }
 },
 "nbformat": 4,
 "nbformat_minor": 5
}
