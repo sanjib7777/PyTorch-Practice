{
 "cells": [
  {
   "cell_type": "code",
   "execution_count": 1,
   "id": "dc1cd243-f22b-445d-8d58-580438ad8377",
   "metadata": {},
   "outputs": [],
   "source": [
    "from sklearn.datasets import make_classification\n",
    "import torch"
   ]
  },
  {
   "cell_type": "code",
   "execution_count": 4,
   "id": "8dcb2edd-935c-4893-b2f2-4a7704f6f8c9",
   "metadata": {},
   "outputs": [],
   "source": [
    "X, y = make_classification(\n",
    "    n_samples=10,\n",
    "    n_features=2,\n",
    "    n_informative=2,\n",
    "    n_redundant=0,\n",
    "    random_state=42,\n",
    "    n_classes=2\n",
    ")"
   ]
  },
  {
   "cell_type": "code",
   "execution_count": 8,
   "id": "3f5d42ed-f68b-4e42-845e-86cef7157436",
   "metadata": {},
   "outputs": [
    {
     "data": {
      "text/plain": [
       "(10, 2)"
      ]
     },
     "execution_count": 8,
     "metadata": {},
     "output_type": "execute_result"
    }
   ],
   "source": [
    "X.shape"
   ]
  },
  {
   "cell_type": "code",
   "execution_count": 10,
   "id": "79dd98ba-4dfd-4c52-ba2a-28b7b3aba6a4",
   "metadata": {},
   "outputs": [
    {
     "data": {
      "text/plain": [
       "(10,)"
      ]
     },
     "execution_count": 10,
     "metadata": {},
     "output_type": "execute_result"
    }
   ],
   "source": [
    "y.shape"
   ]
  },
  {
   "cell_type": "code",
   "execution_count": 13,
   "id": "4c0dcb3a-3829-41d1-b600-aa122a4c116a",
   "metadata": {},
   "outputs": [],
   "source": [
    "from torch.utils.data import Dataset, DataLoader\n",
    "\n",
    "class CustomDataset(Dataset):\n",
    "    def __init__(self,features,labels): \n",
    "        self.features = features\n",
    "        self.labels = labels\n",
    "\n",
    "    def __len__(self):\n",
    "        return self.features.shape[0]\n",
    "\n",
    "    def __getitem__(self,index): \n",
    "        return self.features[index], self.labels[index]"
   ]
  },
  {
   "cell_type": "code",
   "execution_count": 14,
   "id": "6ed00b25-74f0-493f-b2e1-0d6204f6c71b",
   "metadata": {},
   "outputs": [],
   "source": [
    "dataset = CustomDataset(X,y)"
   ]
  },
  {
   "cell_type": "code",
   "execution_count": 17,
   "id": "ebaa3caa-9b6a-4829-9a29-73214beb2f06",
   "metadata": {},
   "outputs": [
    {
     "data": {
      "text/plain": [
       "(array([-2.8953973 ,  1.97686236]), 0)"
      ]
     },
     "execution_count": 17,
     "metadata": {},
     "output_type": "execute_result"
    }
   ],
   "source": [
    "dataset[2]"
   ]
  },
  {
   "cell_type": "code",
   "execution_count": 18,
   "id": "ef2d0117-3198-42da-bdb8-2c2bea40963f",
   "metadata": {},
   "outputs": [],
   "source": [
    "dataloader = DataLoader(dataset, batch_size=2, shuffle=True)"
   ]
  },
  {
   "cell_type": "code",
   "execution_count": 21,
   "id": "d7861100-6d49-4897-9d91-5e6a84ea0b16",
   "metadata": {},
   "outputs": [
    {
     "name": "stdout",
     "output_type": "stream",
     "text": [
      "tensor([[ 1.0683, -0.9701],\n",
      "        [-2.8954,  1.9769]], dtype=torch.float64)\n",
      "tensor([1, 0], dtype=torch.int32)\n",
      "tensor([[-1.1402, -0.8388],\n",
      "        [-0.5872, -1.9717]], dtype=torch.float64)\n",
      "tensor([0, 0], dtype=torch.int32)\n",
      "tensor([[-0.9382, -0.5430],\n",
      "        [-0.7206, -0.9606]], dtype=torch.float64)\n",
      "tensor([1, 0], dtype=torch.int32)\n",
      "tensor([[1.8997, 0.8344],\n",
      "        [1.7774, 1.5116]], dtype=torch.float64)\n",
      "tensor([1, 1], dtype=torch.int32)\n",
      "tensor([[-1.9629, -0.9923],\n",
      "        [ 1.7273, -1.1858]], dtype=torch.float64)\n",
      "tensor([0, 1], dtype=torch.int32)\n"
     ]
    }
   ],
   "source": [
    "for batch_features, batch_labels in dataloader: \n",
    "    print(batch_features)\n",
    "    print(batch_labels)"
   ]
  },
  {
   "cell_type": "code",
   "execution_count": null,
   "id": "cfe63ee1-9cc4-4061-9a4a-b8ead178aa76",
   "metadata": {},
   "outputs": [],
   "source": []
  }
 ],
 "metadata": {
  "kernelspec": {
   "display_name": "Python 3 (ipykernel)",
   "language": "python",
   "name": "python3"
  },
  "language_info": {
   "codemirror_mode": {
    "name": "ipython",
    "version": 3
   },
   "file_extension": ".py",
   "mimetype": "text/x-python",
   "name": "python",
   "nbconvert_exporter": "python",
   "pygments_lexer": "ipython3",
   "version": "3.12.6"
  }
 },
 "nbformat": 4,
 "nbformat_minor": 5
}
