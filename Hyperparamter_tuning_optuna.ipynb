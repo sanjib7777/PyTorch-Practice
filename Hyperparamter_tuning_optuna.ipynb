{
 "cells": [
  {
   "cell_type": "code",
   "execution_count": null,
   "id": "acbf12bb-1bf6-4a36-8b61-e8d9db3351b4",
   "metadata": {},
   "outputs": [],
   "source": [
    "import pandas as pd\n",
    "from sklearn.model_selection import train_test_split\n",
    "import torch\n",
    "from torch.utils.data import Dataset, DataLoader\n",
    "import torch.nn as nn\n",
    "import torch.optim as optim\n",
    "import matplotlib.pyplot as plt"
   ]
  },
  {
   "cell_type": "code",
   "execution_count": null,
   "id": "7d237b1e-68f8-492d-b6ad-07c55eb0dac7",
   "metadata": {},
   "outputs": [],
   "source": [
    "# Set random seeds for reproducibility\n",
    "torch.manual_seed(42)"
   ]
  },
  {
   "cell_type": "code",
   "execution_count": null,
   "id": "4c5474b7-2193-4c11-bed9-3fcd014577eb",
   "metadata": {},
   "outputs": [],
   "source": [
    "# Check for GPU\n",
    "device = torch.device('cuda' if torch.cuda.is_available() else 'cpu')\n",
    "print(f\"Using device: {device}\")"
   ]
  },
  {
   "cell_type": "code",
   "execution_count": null,
   "id": "3327b073-c48a-431e-9a5c-773aa3009c5a",
   "metadata": {},
   "outputs": [],
   "source": [
    "df = pd.read_csv('/content/fashion-mnist_train.csv')\n",
    "df.head()"
   ]
  },
  {
   "cell_type": "code",
   "execution_count": null,
   "id": "c46adbaf-f08c-4d7d-aec6-c1767c41bc90",
   "metadata": {},
   "outputs": [],
   "source": [
    "# train test split\n",
    "\n",
    "X = df.iloc[:, 1:].values\n",
    "y = df.iloc[:, 0].values"
   ]
  },
  {
   "cell_type": "code",
   "execution_count": null,
   "id": "7f74ea23-a746-46d7-a151-daba5b9b641e",
   "metadata": {},
   "outputs": [],
   "source": [
    "X_train, X_test, y_train, y_test = train_test_split(X, y, test_size=0.2, random_state=42)"
   ]
  },
  {
   "cell_type": "code",
   "execution_count": null,
   "id": "371a7ca5-7917-4aa7-b879-fa9bb033aa69",
   "metadata": {},
   "outputs": [],
   "source": [
    "X_train = X_train/255.0\n",
    "X_test = X_test/255.0"
   ]
  },
  {
   "cell_type": "code",
   "execution_count": null,
   "id": "9b05328b-c30a-47a5-b6a4-de0e0263f852",
   "metadata": {},
   "outputs": [],
   "source": [
    "class CustomDataset(Dataset):\n",
    "\n",
    "  def __init__(self, features, labels):\n",
    "\n",
    "    # Convert to PyTorch tensors\n",
    "    self.features = torch.tensor(features, dtype=torch.float32)\n",
    "    self.labels = torch.tensor(labels, dtype=torch.long)\n",
    "\n",
    "  def __len__(self):\n",
    "    return len(self.features)\n",
    "\n",
    "  def __getitem__(self, index):\n",
    "    return self.features[index], self.labels[index]"
   ]
  },
  {
   "cell_type": "code",
   "execution_count": null,
   "id": "1a36ebfc-bd09-4b08-9190-0458d6b3134b",
   "metadata": {},
   "outputs": [],
   "source": [
    "train_dataset = CustomDataset(X_train, y_train)\n",
    "test_dataset = CustomDataset(X_test, y_test)"
   ]
  },
  {
   "cell_type": "code",
   "execution_count": null,
   "id": "732f4c78-bc9c-42f0-bc3e-ae4388fb4178",
   "metadata": {},
   "outputs": [],
   "source": [
    "class MyNN(nn.Module):\n",
    "\n",
    "  def __init__(self, input_dim, output_dim, num_hidden_layer,neurons_per_layer, dropout_rate):\n",
    "\n",
    "    super().__init__()\n",
    "    layers = []\n",
    "    for i in range(num_hidden_layer): \n",
    "      layers.append(nn.Linear(input_dim,neurons_per_layer))\n",
    "      layers.append(nn.BatchNorm1d(neurons_per_layer))\n",
    "      layers.append(nn.ReLU())\n",
    "      layers.append(nn.Dropout(dropout_rate))\n",
    "      input_dim = neurons_per_layer\n",
    "\n",
    "    layers.append(nn.Linear(neurons_per_layer,output_dim))\n",
    "    \n",
    "    self.model = nn.Sequential(*layers)\n",
    "  \n",
    "  def forward(self,x):\n",
    "    return self.model(x)"
   ]
  },
  {
   "cell_type": "code",
   "execution_count": null,
   "id": "a7c624fe-07f8-4bc1-b41b-a38679e80de9",
   "metadata": {},
   "outputs": [],
   "source": [
    "#objective function\n",
    "def objective(trial): \n",
    "  # next hyperparamter values from the search space\n",
    "  num_hidden_layer = trial.suggest_int('num_hidden_layer',1,5)\n",
    "  neurons_per_layer = trial.suggest_int('neurons_per_layer',8,128,step=8)\n",
    "  epochs = trial.suggest_int('epochs', 10,50)\n",
    "  learning_rate = trial.suggest_float('learning_rate',1e-5,1e-1, log=True)\n",
    "  dropout_rate = trial.suggest_float('drop',0.1,0.5, step = 0.1)\n",
    "  batch_size = trial.suggest_categorical('batch_size',[16,32,64,128])\n",
    "  optimizer_name = trial.suggest_categorical('optimizer',['Adam','SGD','RMSprop'])\n",
    "  weight_decay = trial.suggest_float('weight_decay',1e-5, 1e-3 , log=True)\n",
    "\n",
    "  train_loader = DataLoader(train_dataset, batch_size=batch_size, shuffle=True, pin_memory=True)\n",
    "  test_loader = DataLoader(test_dataset, batch_size=batch_size, shuffle=False, pin_memory=True)   \n",
    "\n",
    "  # model init\n",
    "  input_dim = 784\n",
    "  output_dim = 10\n",
    "  model = MyNN(input_dim, output_dim, num_hidden_layer, neurons_per_layer, dropout_rate)\n",
    "  model.to(device)\n",
    "\n",
    "  # optimi5r selection\n",
    "  criterion = nn.CrossEntropyLoss()\n",
    "  # optimizer\n",
    "  optimizer = optim.SGD(model.parameters(), lr=learning_rate, weight_decay=weight_decay)\n",
    "\n",
    "  if optimizer_name == 'Adam':\n",
    "    optim.Adam(model.parameters(), lr=learning_rate,weight_decay=weight_decay)\n",
    "\n",
    "  elif optimizer_name == 'SGD':\n",
    "    optim.SGD(model.parameters(), lr=learning_rate,weight_decay=weight_decay)\n",
    "\n",
    "  else:\n",
    "    optim.RMSprop(model.parameters(), lr=learning_rate,weight_decay=weight_decay)\n",
    "  #training loop\n",
    "  for epoch in range(epochs):\n",
    "\n",
    "    total_epoch_loss = 0\n",
    "\n",
    "    for batch_features, batch_labels in train_loader:\n",
    "\n",
    "      # move data to gpu\n",
    "      batch_features, batch_labels = batch_features.to(device), batch_labels.to(device)\n",
    "      # forward pass\n",
    "      outputs = model(batch_features)\n",
    "\n",
    "      # calculate loss\n",
    "      loss = criterion(outputs, batch_labels)\n",
    "\n",
    "      # back pass\n",
    "      optimizer.zero_grad()\n",
    "      loss.backward()\n",
    "\n",
    "      # update grads\n",
    "      optimizer.step()\n",
    "  # evaluation\n",
    "  model.eval()\n",
    "  # evaluation code\n",
    "  total = 0\n",
    "  correct = 0\n",
    "\n",
    "  with torch.no_grad():\n",
    "\n",
    "    for batch_features, batch_labels in test_loader:\n",
    "\n",
    "      # move data to gpu\n",
    "      batch_features, batch_labels = batch_features.to(device), batch_labels.to(device)\n",
    "\n",
    "      outputs = model(batch_features)\n",
    "\n",
    "      _, predicted = torch.max(outputs, 1)\n",
    "\n",
    "      total = total + batch_labels.shape[0]\n",
    "\n",
    "      correct = correct + (predicted == batch_labels).sum().item()\n",
    "\n",
    "  accuracy = correct/total\n",
    "  return accuracy\n",
    "  "
   ]
  },
  {
   "cell_type": "code",
   "execution_count": null,
   "id": "37a72c5c-a789-45f7-99fb-40b3aaf4baa3",
   "metadata": {},
   "outputs": [],
   "source": [
    "import optuna\n",
    "study = optuna.create_study(direction='maximize')"
   ]
  },
  {
   "cell_type": "code",
   "execution_count": null,
   "id": "713a180f-4406-484d-bbc5-bb74263540b0",
   "metadata": {},
   "outputs": [],
   "source": [
    "study.optimize(objective, n_trials=10)"
   ]
  },
  {
   "cell_type": "code",
   "execution_count": null,
   "id": "c763d401-285c-46f2-aa8d-7bb78c41e4f5",
   "metadata": {},
   "outputs": [],
   "source": [
    "study.best_value\n",
    "study.best_params"
   ]
  }
 ],
 "metadata": {
  "kernelspec": {
   "display_name": "Python 3 (ipykernel)",
   "language": "python",
   "name": "python3"
  },
  "language_info": {
   "codemirror_mode": {
    "name": "ipython",
    "version": 3
   },
   "file_extension": ".py",
   "mimetype": "text/x-python",
   "name": "python",
   "nbconvert_exporter": "python",
   "pygments_lexer": "ipython3",
   "version": "3.12.6"
  }
 },
 "nbformat": 4,
 "nbformat_minor": 5
}
