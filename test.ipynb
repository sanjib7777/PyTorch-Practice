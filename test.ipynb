{
 "cells": [
  {
   "cell_type": "code",
   "execution_count": 1,
   "id": "ab7ab7a2-8939-4e71-a7ff-0b1d7accae7e",
   "metadata": {},
   "outputs": [],
   "source": [
    "import torch\n",
    "import pandas as pd "
   ]
  },
  {
   "cell_type": "code",
   "execution_count": 2,
   "id": "6d626d80-42f1-4172-aea7-0795b6482076",
   "metadata": {},
   "outputs": [
    {
     "data": {
      "text/html": [
       "<div>\n",
       "<style scoped>\n",
       "    .dataframe tbody tr th:only-of-type {\n",
       "        vertical-align: middle;\n",
       "    }\n",
       "\n",
       "    .dataframe tbody tr th {\n",
       "        vertical-align: top;\n",
       "    }\n",
       "\n",
       "    .dataframe thead th {\n",
       "        text-align: right;\n",
       "    }\n",
       "</style>\n",
       "<table border=\"1\" class=\"dataframe\">\n",
       "  <thead>\n",
       "    <tr style=\"text-align: right;\">\n",
       "      <th></th>\n",
       "      <th>id</th>\n",
       "      <th>diagnosis</th>\n",
       "      <th>radius_mean</th>\n",
       "      <th>texture_mean</th>\n",
       "      <th>perimeter_mean</th>\n",
       "      <th>area_mean</th>\n",
       "      <th>smoothness_mean</th>\n",
       "      <th>compactness_mean</th>\n",
       "      <th>concavity_mean</th>\n",
       "      <th>concave points_mean</th>\n",
       "      <th>...</th>\n",
       "      <th>texture_worst</th>\n",
       "      <th>perimeter_worst</th>\n",
       "      <th>area_worst</th>\n",
       "      <th>smoothness_worst</th>\n",
       "      <th>compactness_worst</th>\n",
       "      <th>concavity_worst</th>\n",
       "      <th>concave points_worst</th>\n",
       "      <th>symmetry_worst</th>\n",
       "      <th>fractal_dimension_worst</th>\n",
       "      <th>Unnamed: 32</th>\n",
       "    </tr>\n",
       "  </thead>\n",
       "  <tbody>\n",
       "    <tr>\n",
       "      <th>0</th>\n",
       "      <td>842302</td>\n",
       "      <td>M</td>\n",
       "      <td>17.99</td>\n",
       "      <td>10.38</td>\n",
       "      <td>122.80</td>\n",
       "      <td>1001.0</td>\n",
       "      <td>0.11840</td>\n",
       "      <td>0.27760</td>\n",
       "      <td>0.3001</td>\n",
       "      <td>0.14710</td>\n",
       "      <td>...</td>\n",
       "      <td>17.33</td>\n",
       "      <td>184.60</td>\n",
       "      <td>2019.0</td>\n",
       "      <td>0.1622</td>\n",
       "      <td>0.6656</td>\n",
       "      <td>0.7119</td>\n",
       "      <td>0.2654</td>\n",
       "      <td>0.4601</td>\n",
       "      <td>0.11890</td>\n",
       "      <td>NaN</td>\n",
       "    </tr>\n",
       "    <tr>\n",
       "      <th>1</th>\n",
       "      <td>842517</td>\n",
       "      <td>M</td>\n",
       "      <td>20.57</td>\n",
       "      <td>17.77</td>\n",
       "      <td>132.90</td>\n",
       "      <td>1326.0</td>\n",
       "      <td>0.08474</td>\n",
       "      <td>0.07864</td>\n",
       "      <td>0.0869</td>\n",
       "      <td>0.07017</td>\n",
       "      <td>...</td>\n",
       "      <td>23.41</td>\n",
       "      <td>158.80</td>\n",
       "      <td>1956.0</td>\n",
       "      <td>0.1238</td>\n",
       "      <td>0.1866</td>\n",
       "      <td>0.2416</td>\n",
       "      <td>0.1860</td>\n",
       "      <td>0.2750</td>\n",
       "      <td>0.08902</td>\n",
       "      <td>NaN</td>\n",
       "    </tr>\n",
       "    <tr>\n",
       "      <th>2</th>\n",
       "      <td>84300903</td>\n",
       "      <td>M</td>\n",
       "      <td>19.69</td>\n",
       "      <td>21.25</td>\n",
       "      <td>130.00</td>\n",
       "      <td>1203.0</td>\n",
       "      <td>0.10960</td>\n",
       "      <td>0.15990</td>\n",
       "      <td>0.1974</td>\n",
       "      <td>0.12790</td>\n",
       "      <td>...</td>\n",
       "      <td>25.53</td>\n",
       "      <td>152.50</td>\n",
       "      <td>1709.0</td>\n",
       "      <td>0.1444</td>\n",
       "      <td>0.4245</td>\n",
       "      <td>0.4504</td>\n",
       "      <td>0.2430</td>\n",
       "      <td>0.3613</td>\n",
       "      <td>0.08758</td>\n",
       "      <td>NaN</td>\n",
       "    </tr>\n",
       "    <tr>\n",
       "      <th>3</th>\n",
       "      <td>84348301</td>\n",
       "      <td>M</td>\n",
       "      <td>11.42</td>\n",
       "      <td>20.38</td>\n",
       "      <td>77.58</td>\n",
       "      <td>386.1</td>\n",
       "      <td>0.14250</td>\n",
       "      <td>0.28390</td>\n",
       "      <td>0.2414</td>\n",
       "      <td>0.10520</td>\n",
       "      <td>...</td>\n",
       "      <td>26.50</td>\n",
       "      <td>98.87</td>\n",
       "      <td>567.7</td>\n",
       "      <td>0.2098</td>\n",
       "      <td>0.8663</td>\n",
       "      <td>0.6869</td>\n",
       "      <td>0.2575</td>\n",
       "      <td>0.6638</td>\n",
       "      <td>0.17300</td>\n",
       "      <td>NaN</td>\n",
       "    </tr>\n",
       "    <tr>\n",
       "      <th>4</th>\n",
       "      <td>84358402</td>\n",
       "      <td>M</td>\n",
       "      <td>20.29</td>\n",
       "      <td>14.34</td>\n",
       "      <td>135.10</td>\n",
       "      <td>1297.0</td>\n",
       "      <td>0.10030</td>\n",
       "      <td>0.13280</td>\n",
       "      <td>0.1980</td>\n",
       "      <td>0.10430</td>\n",
       "      <td>...</td>\n",
       "      <td>16.67</td>\n",
       "      <td>152.20</td>\n",
       "      <td>1575.0</td>\n",
       "      <td>0.1374</td>\n",
       "      <td>0.2050</td>\n",
       "      <td>0.4000</td>\n",
       "      <td>0.1625</td>\n",
       "      <td>0.2364</td>\n",
       "      <td>0.07678</td>\n",
       "      <td>NaN</td>\n",
       "    </tr>\n",
       "  </tbody>\n",
       "</table>\n",
       "<p>5 rows × 33 columns</p>\n",
       "</div>"
      ],
      "text/plain": [
       "         id diagnosis  radius_mean  texture_mean  perimeter_mean  area_mean  \\\n",
       "0    842302         M        17.99         10.38          122.80     1001.0   \n",
       "1    842517         M        20.57         17.77          132.90     1326.0   \n",
       "2  84300903         M        19.69         21.25          130.00     1203.0   \n",
       "3  84348301         M        11.42         20.38           77.58      386.1   \n",
       "4  84358402         M        20.29         14.34          135.10     1297.0   \n",
       "\n",
       "   smoothness_mean  compactness_mean  concavity_mean  concave points_mean  \\\n",
       "0          0.11840           0.27760          0.3001              0.14710   \n",
       "1          0.08474           0.07864          0.0869              0.07017   \n",
       "2          0.10960           0.15990          0.1974              0.12790   \n",
       "3          0.14250           0.28390          0.2414              0.10520   \n",
       "4          0.10030           0.13280          0.1980              0.10430   \n",
       "\n",
       "   ...  texture_worst  perimeter_worst  area_worst  smoothness_worst  \\\n",
       "0  ...          17.33           184.60      2019.0            0.1622   \n",
       "1  ...          23.41           158.80      1956.0            0.1238   \n",
       "2  ...          25.53           152.50      1709.0            0.1444   \n",
       "3  ...          26.50            98.87       567.7            0.2098   \n",
       "4  ...          16.67           152.20      1575.0            0.1374   \n",
       "\n",
       "   compactness_worst  concavity_worst  concave points_worst  symmetry_worst  \\\n",
       "0             0.6656           0.7119                0.2654          0.4601   \n",
       "1             0.1866           0.2416                0.1860          0.2750   \n",
       "2             0.4245           0.4504                0.2430          0.3613   \n",
       "3             0.8663           0.6869                0.2575          0.6638   \n",
       "4             0.2050           0.4000                0.1625          0.2364   \n",
       "\n",
       "   fractal_dimension_worst  Unnamed: 32  \n",
       "0                  0.11890          NaN  \n",
       "1                  0.08902          NaN  \n",
       "2                  0.08758          NaN  \n",
       "3                  0.17300          NaN  \n",
       "4                  0.07678          NaN  \n",
       "\n",
       "[5 rows x 33 columns]"
      ]
     },
     "execution_count": 2,
     "metadata": {},
     "output_type": "execute_result"
    }
   ],
   "source": [
    "df = pd.read_csv('data.csv')\n",
    "df.head()"
   ]
  },
  {
   "cell_type": "code",
   "execution_count": 3,
   "id": "64436b80-67fd-475b-9030-a4ce732935ae",
   "metadata": {},
   "outputs": [],
   "source": [
    "from sklearn.model_selection import train_test_split\n",
    "from sklearn.preprocessing import StandardScaler, LabelEncoder"
   ]
  },
  {
   "cell_type": "code",
   "execution_count": 4,
   "id": "7c3d335a-b0ec-4960-a6c8-1b8fb340044f",
   "metadata": {},
   "outputs": [],
   "source": [
    "df.drop(columns=['id','Unnamed: 32'], inplace=True)"
   ]
  },
  {
   "cell_type": "code",
   "execution_count": 5,
   "id": "76763dc5-42ac-4bb8-a368-6a5bc8b3fe0e",
   "metadata": {},
   "outputs": [
    {
     "data": {
      "text/plain": [
       "(569, 31)"
      ]
     },
     "execution_count": 5,
     "metadata": {},
     "output_type": "execute_result"
    }
   ],
   "source": [
    "df.shape"
   ]
  },
  {
   "cell_type": "code",
   "execution_count": 6,
   "id": "630a5542-571f-4e70-a204-6287e681c99b",
   "metadata": {},
   "outputs": [],
   "source": [
    "X_train, X_test, y_train, y_test = train_test_split(df.iloc[:,1:], df.iloc[:,0], test_size=0.2)"
   ]
  },
  {
   "cell_type": "code",
   "execution_count": 7,
   "id": "14337797-c14a-49d6-8516-d09554aeecfa",
   "metadata": {},
   "outputs": [],
   "source": [
    "scaler = StandardScaler()"
   ]
  },
  {
   "cell_type": "code",
   "execution_count": 8,
   "id": "667933f4-0036-46fe-bf9a-964f549a3b73",
   "metadata": {},
   "outputs": [],
   "source": [
    "X_train = scaler.fit_transform(X_train)\n",
    "X_test = scaler.transform(X_test)"
   ]
  },
  {
   "cell_type": "code",
   "execution_count": 9,
   "id": "a135b04d-1e8a-48b3-93c9-d37931d22613",
   "metadata": {},
   "outputs": [
    {
     "data": {
      "text/plain": [
       "array([[-0.82255611, -1.44289106, -0.84545309, ..., -0.87908707,\n",
       "        -0.04555705, -0.89529703],\n",
       "       [-0.06023576,  1.21703873,  0.04189701, ...,  0.60516304,\n",
       "         1.2614201 ,  1.86556003],\n",
       "       [-0.16873079,  0.53865173, -0.2123995 , ..., -0.02041229,\n",
       "         0.17722314, -0.69115299],\n",
       "       ...,\n",
       "       [ 0.14247864, -1.23308064,  0.10516102, ..., -0.08618182,\n",
       "        -0.46306364, -0.32871545],\n",
       "       [-0.85396257, -0.568681  , -0.84338564, ..., -0.5846537 ,\n",
       "         0.18382404, -0.28996083],\n",
       "       [-1.19457986, -0.83677209, -1.17086992, ..., -0.72276972,\n",
       "        -0.63468691,  0.43491425]])"
      ]
     },
     "execution_count": 9,
     "metadata": {},
     "output_type": "execute_result"
    }
   ],
   "source": [
    "X_train"
   ]
  },
  {
   "cell_type": "code",
   "execution_count": 10,
   "id": "c8c6d618-96cc-4fd7-8dce-84221312277e",
   "metadata": {},
   "outputs": [
    {
     "data": {
      "text/plain": [
       "153    B\n",
       "501    M\n",
       "40     M\n",
       "256    M\n",
       "391    B\n",
       "      ..\n",
       "238    B\n",
       "210    M\n",
       "453    B\n",
       "411    B\n",
       "524    B\n",
       "Name: diagnosis, Length: 455, dtype: object"
      ]
     },
     "execution_count": 10,
     "metadata": {},
     "output_type": "execute_result"
    }
   ],
   "source": [
    "y_train"
   ]
  },
  {
   "cell_type": "code",
   "execution_count": 11,
   "id": "e8f45f58-dfcb-4d77-9e37-df1a8848fbfc",
   "metadata": {},
   "outputs": [],
   "source": [
    "encoder = LabelEncoder()\n",
    "y_train = encoder.fit_transform(y_train)\n",
    "y_test = encoder.transform(y_test)"
   ]
  },
  {
   "cell_type": "code",
   "execution_count": 12,
   "id": "212f6fd0-f1a5-4a5b-a24f-d246ae4a84f8",
   "metadata": {},
   "outputs": [
    {
     "data": {
      "text/plain": [
       "array([0, 1, 1, 1, 0, 0, 0, 1, 0, 0, 1, 0, 0, 0, 0, 0, 1, 0, 1, 0, 1, 1,\n",
       "       0, 0, 0, 1, 1, 0, 0, 1, 0, 0, 0, 0, 0, 0, 0, 0, 0, 0, 0, 1, 0, 0,\n",
       "       0, 0, 0, 0, 0, 0, 0, 0, 1, 1, 0, 0, 0, 0, 0, 1, 0, 1, 1, 1, 0, 0,\n",
       "       0, 0, 1, 0, 0, 0, 1, 1, 0, 0, 1, 1, 0, 1, 0, 0, 1, 0, 0, 0, 1, 1,\n",
       "       1, 0, 0, 0, 0, 1, 0, 1, 1, 0, 0, 1, 0, 0, 1, 0, 0, 0, 0, 1, 0, 1,\n",
       "       1, 0, 1, 0, 1, 0, 0, 1, 0, 1, 0, 0, 0, 0, 0, 1, 0, 1, 1, 1, 0, 0,\n",
       "       1, 0, 0, 0, 0, 0, 0, 0, 0, 0, 0, 1, 0, 0, 0, 1, 1, 0, 0, 1, 0, 0,\n",
       "       1, 1, 0, 0, 0, 0, 1, 0, 0, 1, 0, 1, 0, 1, 0, 0, 0, 1, 0, 0, 0, 1,\n",
       "       1, 0, 0, 0, 0, 0, 0, 0, 0, 1, 0, 1, 0, 0, 0, 1, 1, 1, 1, 0, 0, 0,\n",
       "       0, 0, 0, 0, 0, 1, 0, 0, 0, 0, 0, 0, 1, 1, 0, 0, 1, 0, 1, 1, 1, 0,\n",
       "       0, 0, 0, 0, 0, 0, 0, 0, 0, 0, 1, 0, 0, 0, 0, 0, 0, 0, 0, 1, 1, 0,\n",
       "       0, 0, 0, 0, 0, 0, 0, 0, 0, 0, 0, 1, 0, 1, 0, 0, 0, 1, 1, 0, 0, 0,\n",
       "       1, 0, 0, 1, 0, 0, 0, 1, 0, 0, 0, 0, 0, 1, 0, 1, 1, 0, 0, 0, 0, 1,\n",
       "       1, 0, 0, 1, 1, 0, 1, 0, 0, 0, 1, 1, 0, 0, 0, 0, 0, 0, 0, 0, 1, 1,\n",
       "       1, 0, 0, 0, 0, 0, 0, 1, 0, 0, 1, 1, 1, 1, 0, 1, 1, 0, 0, 0, 1, 1,\n",
       "       1, 0, 0, 0, 0, 1, 1, 1, 0, 1, 0, 1, 1, 1, 0, 1, 0, 0, 1, 0, 0, 1,\n",
       "       0, 0, 1, 1, 1, 1, 1, 0, 0, 1, 0, 0, 1, 1, 1, 1, 0, 0, 1, 0, 0, 1,\n",
       "       0, 0, 1, 1, 0, 1, 0, 0, 1, 0, 1, 0, 1, 1, 0, 1, 0, 0, 0, 0, 1, 1,\n",
       "       1, 1, 1, 1, 1, 0, 0, 0, 1, 0, 1, 1, 0, 0, 0, 1, 0, 1, 0, 1, 0, 0,\n",
       "       0, 1, 0, 0, 1, 0, 1, 0, 0, 0, 0, 1, 0, 1, 0, 1, 0, 1, 0, 1, 0, 0,\n",
       "       1, 0, 0, 1, 1, 0, 0, 1, 0, 0, 0, 1, 0, 0, 0])"
      ]
     },
     "execution_count": 12,
     "metadata": {},
     "output_type": "execute_result"
    }
   ],
   "source": [
    "y_train"
   ]
  },
  {
   "cell_type": "code",
   "execution_count": 13,
   "id": "6130039c-b526-4344-a708-948282e8fd79",
   "metadata": {},
   "outputs": [],
   "source": [
    "X_train_tensor = torch.from_numpy(X_train)\n",
    "X_test_tensor = torch.from_numpy(X_test)\n",
    "y_train_tensor = torch.from_numpy(y_train)\n",
    "y_test_tensor = torch.from_numpy(y_test)"
   ]
  },
  {
   "cell_type": "code",
   "execution_count": 14,
   "id": "7715d261-3552-4491-9c47-ea68edfb4286",
   "metadata": {},
   "outputs": [
    {
     "data": {
      "text/plain": [
       "torch.Size([455, 30])"
      ]
     },
     "execution_count": 14,
     "metadata": {},
     "output_type": "execute_result"
    }
   ],
   "source": [
    "X_train_tensor.shape"
   ]
  },
  {
   "cell_type": "code",
   "execution_count": 15,
   "id": "42182710-76de-4889-b517-0b5755c544a5",
   "metadata": {},
   "outputs": [],
   "source": [
    "from torch.utils.data import Dataset, DataLoader\n",
    "\n",
    "class CustomDataset(Dataset):\n",
    "    def __init__(self,features,labels): \n",
    "        self.features = features\n",
    "        self.labels = labels\n",
    "\n",
    "    def __len__(self):\n",
    "        return self.features.shape[0]\n",
    "\n",
    "    def __getitem__(self,index): \n",
    "        return self.features[index], self.labels[index]"
   ]
  },
  {
   "cell_type": "code",
   "execution_count": 16,
   "id": "0a00dc88-a6b2-4ec7-805c-69113277e9e6",
   "metadata": {},
   "outputs": [],
   "source": [
    "train_dataset = CustomDataset(X_train_tensor, y_train_tensor)\n",
    "test_dataset = CustomDataset(X_test_tensor, y_test_tensor)"
   ]
  },
  {
   "cell_type": "code",
   "execution_count": 17,
   "id": "cd004ed0-6a75-4733-b860-b12dfdd5fff5",
   "metadata": {},
   "outputs": [
    {
     "data": {
      "text/plain": [
       "(tensor([-0.0602,  1.2170,  0.0419, -0.1422,  1.4701,  1.2264,  0.6127,  0.5231,\n",
       "          1.7588,  1.3291,  0.2563,  0.5886,  0.0588, -0.0171,  0.9231,  0.7210,\n",
       "          0.0735,  0.7013,  0.5028,  1.1256, -0.0263,  1.2157, -0.0121, -0.1376,\n",
       "          2.0997,  0.9430,  0.3285,  0.6052,  1.2614,  1.8656],\n",
       "        dtype=torch.float64),\n",
       " tensor(1, dtype=torch.int32))"
      ]
     },
     "execution_count": 17,
     "metadata": {},
     "output_type": "execute_result"
    }
   ],
   "source": [
    "train_dataset[1]"
   ]
  },
  {
   "cell_type": "code",
   "execution_count": 18,
   "id": "15edf943-09de-440d-9e9a-62e2feadd0ae",
   "metadata": {},
   "outputs": [],
   "source": [
    "train_loader = DataLoader(train_dataset, batch_size=32, shuffle= True)\n",
    "test_loader = DataLoader(test_dataset, batch_size=32, shuffle= True)"
   ]
  },
  {
   "cell_type": "code",
   "execution_count": 19,
   "id": "980ed54f-a38c-4830-88c1-0b41410de20b",
   "metadata": {},
   "outputs": [],
   "source": [
    "import torch.nn as nn\n",
    "\n",
    "class MySimpleNN(nn.Module):\n",
    "    def __init__(self, num_features):\n",
    "        super().__init__()\n",
    "        self.linear = nn.Linear(num_features,1)\n",
    "        self.sigmoid = nn.Sigmoid()\n",
    "\n",
    "    def forward(self, features):\n",
    "        out = self.linear(features)\n",
    "        out = self.sigmoid(out)\n",
    "\n",
    "        return out\n"
   ]
  },
  {
   "cell_type": "code",
   "execution_count": 20,
   "id": "e38f1e2d-0630-4315-9ad8-be6db75bd4a7",
   "metadata": {},
   "outputs": [],
   "source": [
    "learning_rate = 0.1\n",
    "epochs = 20"
   ]
  },
  {
   "cell_type": "code",
   "execution_count": 21,
   "id": "c99f6772-bf2f-4e95-b65f-730b1ee7e4c3",
   "metadata": {},
   "outputs": [],
   "source": [
    "loss_function = nn.BCELoss()"
   ]
  },
  {
   "cell_type": "code",
   "execution_count": 22,
   "id": "2e385583-4e63-4abc-8575-fd138bc869aa",
   "metadata": {},
   "outputs": [
    {
     "data": {
      "text/plain": [
       "torch.nn.modules.loss.BCELoss"
      ]
     },
     "execution_count": 22,
     "metadata": {},
     "output_type": "execute_result"
    }
   ],
   "source": [
    "type(loss_function)"
   ]
  },
  {
   "cell_type": "code",
   "execution_count": 23,
   "id": "add96b2f-bb0c-48cf-95a7-992c6c25d2d2",
   "metadata": {},
   "outputs": [
    {
     "name": "stderr",
     "output_type": "stream",
     "text": [
      "C:\\Users\\ACER\\AppData\\Local\\Temp\\ipykernel_20948\\1205825107.py:1: UserWarning: To copy construct from a tensor, it is recommended to use sourceTensor.clone().detach() or sourceTensor.clone().detach().requires_grad_(True), rather than torch.tensor(sourceTensor).\n",
      "  X_train_tensor = torch.tensor(X_train_tensor, dtype=torch.float32)\n"
     ]
    },
    {
     "data": {
      "text/plain": [
       "torch.float32"
      ]
     },
     "execution_count": 23,
     "metadata": {},
     "output_type": "execute_result"
    }
   ],
   "source": [
    "X_train_tensor = torch.tensor(X_train_tensor, dtype=torch.float32)\n",
    "X_train_tensor.dtype"
   ]
  },
  {
   "cell_type": "code",
   "execution_count": 24,
   "id": "d5fa1948-0680-4d4a-9a69-53b93662d42e",
   "metadata": {},
   "outputs": [
    {
     "name": "stderr",
     "output_type": "stream",
     "text": [
      "C:\\Users\\ACER\\AppData\\Local\\Temp\\ipykernel_20948\\2235925388.py:2: UserWarning: To copy construct from a tensor, it is recommended to use sourceTensor.clone().detach() or sourceTensor.clone().detach().requires_grad_(True), rather than torch.tensor(sourceTensor).\n",
      "  y_train_tensor = torch.tensor(y_train_tensor, dtype=torch.float32)\n"
     ]
    }
   ],
   "source": [
    "y_train_tensor = y_train_tensor.reshape(-1,1)\n",
    "y_train_tensor = torch.tensor(y_train_tensor, dtype=torch.float32)"
   ]
  },
  {
   "cell_type": "code",
   "execution_count": 26,
   "id": "1b1386c0-fb2d-4cad-b58d-78dd20f4ead8",
   "metadata": {},
   "outputs": [
    {
     "name": "stdout",
     "output_type": "stream",
     "text": [
      "Epoch:1, Loss: 0.7863710522651672\n",
      "Epoch:1, Loss: 0.5730364322662354\n",
      "Epoch:1, Loss: 0.4631909430027008\n",
      "Epoch:1, Loss: 0.3987949788570404\n",
      "Epoch:1, Loss: 0.3562805950641632\n",
      "Epoch:1, Loss: 0.32581305503845215\n",
      "Epoch:1, Loss: 0.30268174409866333\n",
      "Epoch:1, Loss: 0.2843646705150604\n",
      "Epoch:1, Loss: 0.26939183473587036\n",
      "Epoch:1, Loss: 0.25684818625450134\n",
      "Epoch:1, Loss: 0.24613308906555176\n",
      "Epoch:1, Loss: 0.23683515191078186\n",
      "Epoch:1, Loss: 0.22866234183311462\n",
      "Epoch:1, Loss: 0.2214011400938034\n",
      "Epoch:1, Loss: 0.21489131450653076\n",
      "Epoch:2, Loss: 0.20900999009609222\n",
      "Epoch:2, Loss: 0.20366108417510986\n",
      "Epoch:2, Loss: 0.19876819849014282\n",
      "Epoch:2, Loss: 0.19426965713500977\n",
      "Epoch:2, Loss: 0.1901150643825531\n",
      "Epoch:2, Loss: 0.18626275658607483\n",
      "Epoch:2, Loss: 0.18267779052257538\n",
      "Epoch:2, Loss: 0.1793307662010193\n",
      "Epoch:2, Loss: 0.1761966347694397\n",
      "Epoch:2, Loss: 0.17325390875339508\n",
      "Epoch:2, Loss: 0.1704840362071991\n",
      "Epoch:2, Loss: 0.1678708791732788\n",
      "Epoch:2, Loss: 0.16540035605430603\n",
      "Epoch:2, Loss: 0.16306012868881226\n",
      "Epoch:2, Loss: 0.16083920001983643\n",
      "Epoch:3, Loss: 0.15872789919376373\n",
      "Epoch:3, Loss: 0.15671762824058533\n",
      "Epoch:3, Loss: 0.1548006236553192\n",
      "Epoch:3, Loss: 0.15297001600265503\n",
      "Epoch:3, Loss: 0.15121954679489136\n",
      "Epoch:3, Loss: 0.1495436131954193\n",
      "Epoch:3, Loss: 0.14793714880943298\n",
      "Epoch:3, Loss: 0.1463954746723175\n",
      "Epoch:3, Loss: 0.1449144333600998\n",
      "Epoch:3, Loss: 0.14349018037319183\n",
      "Epoch:3, Loss: 0.14211921393871307\n",
      "Epoch:3, Loss: 0.14079833030700684\n",
      "Epoch:3, Loss: 0.13952457904815674\n",
      "Epoch:3, Loss: 0.1382952332496643\n",
      "Epoch:3, Loss: 0.13710780441761017\n",
      "Epoch:4, Loss: 0.1359599381685257\n",
      "Epoch:4, Loss: 0.13484957814216614\n",
      "Epoch:4, Loss: 0.13377468287944794\n",
      "Epoch:4, Loss: 0.13273343443870544\n",
      "Epoch:4, Loss: 0.13172413408756256\n",
      "Epoch:4, Loss: 0.13074517250061035\n",
      "Epoch:4, Loss: 0.12979505956172943\n",
      "Epoch:4, Loss: 0.12887243926525116\n",
      "Epoch:4, Loss: 0.12797603011131287\n",
      "Epoch:4, Loss: 0.12710459530353546\n",
      "Epoch:4, Loss: 0.1262570172548294\n",
      "Epoch:4, Loss: 0.12543220818042755\n",
      "Epoch:4, Loss: 0.1246291846036911\n",
      "Epoch:4, Loss: 0.12384703010320663\n",
      "Epoch:4, Loss: 0.12308482080698013\n",
      "Epoch:5, Loss: 0.12234175205230713\n",
      "Epoch:5, Loss: 0.12161704152822495\n",
      "Epoch:5, Loss: 0.12090995162725449\n",
      "Epoch:5, Loss: 0.12021974474191666\n",
      "Epoch:5, Loss: 0.1195458397269249\n",
      "Epoch:5, Loss: 0.1188875213265419\n",
      "Epoch:5, Loss: 0.1182442456483841\n",
      "Epoch:5, Loss: 0.1176154613494873\n",
      "Epoch:5, Loss: 0.11700059473514557\n",
      "Epoch:5, Loss: 0.11639916896820068\n",
      "Epoch:5, Loss: 0.11581070721149445\n",
      "Epoch:5, Loss: 0.11523472517728806\n",
      "Epoch:5, Loss: 0.11467081308364868\n",
      "Epoch:5, Loss: 0.1141185536980629\n",
      "Epoch:5, Loss: 0.11357753723859787\n",
      "Epoch:6, Loss: 0.11304742842912674\n",
      "Epoch:6, Loss: 0.11252781748771667\n",
      "Epoch:6, Loss: 0.1120183989405632\n",
      "Epoch:6, Loss: 0.11151880770921707\n",
      "Epoch:6, Loss: 0.11102879047393799\n",
      "Epoch:6, Loss: 0.1105479896068573\n",
      "Epoch:6, Loss: 0.11007615923881531\n",
      "Epoch:6, Loss: 0.10961299389600754\n",
      "Epoch:6, Loss: 0.10915827751159668\n",
      "Epoch:6, Loss: 0.10871168226003647\n",
      "Epoch:6, Loss: 0.10827304422855377\n",
      "Epoch:6, Loss: 0.1078420951962471\n",
      "Epoch:6, Loss: 0.10741863399744034\n",
      "Epoch:6, Loss: 0.10700241476297379\n",
      "Epoch:6, Loss: 0.10659326612949371\n",
      "Epoch:7, Loss: 0.10619097203016281\n",
      "Epoch:7, Loss: 0.10579534620046616\n",
      "Epoch:7, Loss: 0.10540622472763062\n",
      "Epoch:7, Loss: 0.10502339154481888\n",
      "Epoch:7, Loss: 0.1046467274427414\n",
      "Epoch:7, Loss: 0.10427603125572205\n",
      "Epoch:7, Loss: 0.10391116142272949\n",
      "Epoch:7, Loss: 0.10355200618505478\n",
      "Epoch:7, Loss: 0.10319834202528\n",
      "Epoch:7, Loss: 0.10285008698701859\n",
      "Epoch:7, Loss: 0.102507084608078\n",
      "Epoch:7, Loss: 0.1021692082285881\n",
      "Epoch:7, Loss: 0.10183633118867874\n",
      "Epoch:7, Loss: 0.10150831937789917\n",
      "Epoch:7, Loss: 0.10118509829044342\n",
      "Epoch:8, Loss: 0.10086649656295776\n",
      "Epoch:8, Loss: 0.10055243223905563\n",
      "Epoch:8, Loss: 0.10024281591176987\n",
      "Epoch:8, Loss: 0.09993751347064972\n",
      "Epoch:8, Loss: 0.09963645040988922\n",
      "Epoch:8, Loss: 0.09933951497077942\n",
      "Epoch:8, Loss: 0.09904660284519196\n",
      "Epoch:8, Loss: 0.09875765442848206\n",
      "Epoch:8, Loss: 0.09847255796194077\n",
      "Epoch:8, Loss: 0.09819123893976212\n",
      "Epoch:8, Loss: 0.09791361540555954\n",
      "Epoch:8, Loss: 0.09763959795236588\n",
      "Epoch:8, Loss: 0.09736912697553635\n",
      "Epoch:8, Loss: 0.0971020981669426\n",
      "Epoch:8, Loss: 0.09683845937252045\n",
      "Epoch:9, Loss: 0.09657815098762512\n",
      "Epoch:9, Loss: 0.09632108360528946\n",
      "Epoch:9, Loss: 0.09606718271970749\n",
      "Epoch:9, Loss: 0.09581641107797623\n",
      "Epoch:9, Loss: 0.09556867927312851\n",
      "Epoch:9, Loss: 0.09532395750284195\n",
      "Epoch:9, Loss: 0.09508214890956879\n",
      "Epoch:9, Loss: 0.09484322369098663\n",
      "Epoch:9, Loss: 0.09460711479187012\n",
      "Epoch:9, Loss: 0.09437375515699387\n",
      "Epoch:9, Loss: 0.09414311498403549\n",
      "Epoch:9, Loss: 0.09391512721776962\n",
      "Epoch:9, Loss: 0.09368974715471268\n",
      "Epoch:9, Loss: 0.09346693009138107\n",
      "Epoch:9, Loss: 0.09324660897254944\n",
      "Epoch:10, Loss: 0.09302876144647598\n",
      "Epoch:10, Loss: 0.09281332790851593\n",
      "Epoch:10, Loss: 0.0926002785563469\n",
      "Epoch:10, Loss: 0.0923895463347435\n",
      "Epoch:10, Loss: 0.09218109399080276\n",
      "Epoch:10, Loss: 0.0919748917222023\n",
      "Epoch:10, Loss: 0.09177090227603912\n",
      "Epoch:10, Loss: 0.09156905859708786\n",
      "Epoch:10, Loss: 0.09136936068534851\n",
      "Epoch:10, Loss: 0.0911717563867569\n",
      "Epoch:10, Loss: 0.09097619354724884\n",
      "Epoch:10, Loss: 0.09078267216682434\n",
      "Epoch:10, Loss: 0.09059111028909683\n",
      "Epoch:10, Loss: 0.09040150791406631\n",
      "Epoch:10, Loss: 0.090213842689991\n",
      "Epoch:11, Loss: 0.09002804756164551\n",
      "Epoch:11, Loss: 0.08984410017728806\n",
      "Epoch:11, Loss: 0.08966198563575745\n",
      "Epoch:11, Loss: 0.0894816592335701\n",
      "Epoch:11, Loss: 0.08930310606956482\n",
      "Epoch:11, Loss: 0.08912628144025803\n",
      "Epoch:11, Loss: 0.08895117044448853\n",
      "Epoch:11, Loss: 0.08877773582935333\n",
      "Epoch:11, Loss: 0.08860596269369125\n",
      "Epoch:11, Loss: 0.08843580633401871\n",
      "Epoch:11, Loss: 0.0882672518491745\n",
      "Epoch:11, Loss: 0.08810028433799744\n",
      "Epoch:11, Loss: 0.08793486654758453\n",
      "Epoch:11, Loss: 0.0877709686756134\n",
      "Epoch:11, Loss: 0.08760858327150345\n",
      "Epoch:12, Loss: 0.08744767308235168\n",
      "Epoch:12, Loss: 0.08728822320699692\n",
      "Epoch:12, Loss: 0.08713022619485855\n",
      "Epoch:12, Loss: 0.08697362244129181\n",
      "Epoch:12, Loss: 0.08681841939687729\n",
      "Epoch:12, Loss: 0.0866646096110344\n",
      "Epoch:12, Loss: 0.08651213347911835\n",
      "Epoch:12, Loss: 0.08636099100112915\n",
      "Epoch:12, Loss: 0.08621116727590561\n",
      "Epoch:12, Loss: 0.08606264740228653\n",
      "Epoch:12, Loss: 0.08591540157794952\n",
      "Epoch:12, Loss: 0.0857694000005722\n",
      "Epoch:12, Loss: 0.08562465757131577\n",
      "Epoch:12, Loss: 0.08548112958669662\n",
      "Epoch:12, Loss: 0.08533880114555359\n",
      "Epoch:13, Loss: 0.08519768714904785\n",
      "Epoch:13, Loss: 0.08505772054195404\n",
      "Epoch:13, Loss: 0.08491890877485275\n",
      "Epoch:13, Loss: 0.0847812369465828\n",
      "Epoch:13, Loss: 0.08464470505714417\n",
      "Epoch:13, Loss: 0.08450926095247269\n",
      "Epoch:13, Loss: 0.08437493443489075\n",
      "Epoch:13, Loss: 0.08424167335033417\n",
      "Epoch:13, Loss: 0.08410947769880295\n",
      "Epoch:13, Loss: 0.0839783325791359\n",
      "Epoch:13, Loss: 0.08384823799133301\n",
      "Epoch:13, Loss: 0.0837191492319107\n",
      "Epoch:13, Loss: 0.08359108120203018\n",
      "Epoch:13, Loss: 0.08346399664878845\n",
      "Epoch:13, Loss: 0.08333790302276611\n",
      "Epoch:14, Loss: 0.08321278542280197\n",
      "Epoch:14, Loss: 0.08308861404657364\n",
      "Epoch:14, Loss: 0.08296539634466171\n",
      "Epoch:14, Loss: 0.082843117415905\n",
      "Epoch:14, Loss: 0.0827217623591423\n",
      "Epoch:14, Loss: 0.08260130882263184\n",
      "Epoch:14, Loss: 0.0824817568063736\n",
      "Epoch:14, Loss: 0.0823630839586258\n",
      "Epoch:14, Loss: 0.08224531263113022\n",
      "Epoch:14, Loss: 0.0821283683180809\n",
      "Epoch:14, Loss: 0.08201230317354202\n",
      "Epoch:14, Loss: 0.08189707249403\n",
      "Epoch:14, Loss: 0.08178269863128662\n",
      "Epoch:14, Loss: 0.08166912198066711\n",
      "Epoch:14, Loss: 0.08155637979507446\n",
      "Epoch:15, Loss: 0.08144443482160568\n",
      "Epoch:15, Loss: 0.08133327960968018\n",
      "Epoch:15, Loss: 0.08122292160987854\n",
      "Epoch:15, Loss: 0.08111333101987839\n",
      "Epoch:15, Loss: 0.08100450783967972\n",
      "Epoch:15, Loss: 0.08089643716812134\n",
      "Epoch:15, Loss: 0.08078911900520325\n",
      "Epoch:15, Loss: 0.08068253844976425\n",
      "Epoch:15, Loss: 0.08057670295238495\n",
      "Epoch:15, Loss: 0.08047157526016235\n",
      "Epoch:15, Loss: 0.08036717027425766\n",
      "Epoch:15, Loss: 0.08026348054409027\n",
      "Epoch:15, Loss: 0.0801604837179184\n",
      "Epoch:15, Loss: 0.08005816489458084\n",
      "Epoch:15, Loss: 0.0799565315246582\n",
      "Epoch:16, Loss: 0.07985558360815048\n",
      "Epoch:16, Loss: 0.07975529134273529\n",
      "Epoch:16, Loss: 0.07965568453073502\n",
      "Epoch:16, Loss: 0.07955671101808548\n",
      "Epoch:16, Loss: 0.07945839315652847\n",
      "Epoch:16, Loss: 0.07936070114374161\n",
      "Epoch:16, Loss: 0.07926364988088608\n",
      "Epoch:16, Loss: 0.07916722446680069\n",
      "Epoch:16, Loss: 0.07907140254974365\n",
      "Epoch:16, Loss: 0.07897621393203735\n",
      "Epoch:16, Loss: 0.07888160645961761\n",
      "Epoch:16, Loss: 0.07878760993480682\n",
      "Epoch:16, Loss: 0.07869420945644379\n",
      "Epoch:16, Loss: 0.0786013975739479\n",
      "Epoch:16, Loss: 0.07850915193557739\n",
      "Epoch:17, Loss: 0.07841750234365463\n",
      "Epoch:17, Loss: 0.07832638919353485\n",
      "Epoch:17, Loss: 0.07823586463928223\n",
      "Epoch:17, Loss: 0.07814587652683258\n",
      "Epoch:17, Loss: 0.0780564472079277\n",
      "Epoch:17, Loss: 0.0779675543308258\n",
      "Epoch:17, Loss: 0.07787920534610748\n",
      "Epoch:17, Loss: 0.07779139280319214\n",
      "Epoch:17, Loss: 0.07770410925149918\n",
      "Epoch:17, Loss: 0.0776173397898674\n",
      "Epoch:17, Loss: 0.07753109186887741\n",
      "Epoch:17, Loss: 0.0774453654885292\n",
      "Epoch:17, Loss: 0.0773601233959198\n",
      "Epoch:17, Loss: 0.07727540284395218\n",
      "Epoch:17, Loss: 0.07719117403030396\n",
      "Epoch:18, Loss: 0.07710742950439453\n",
      "Epoch:18, Loss: 0.0770241767168045\n",
      "Epoch:18, Loss: 0.07694141566753387\n",
      "Epoch:18, Loss: 0.07685911655426025\n",
      "Epoch:18, Loss: 0.07677729427814484\n",
      "Epoch:18, Loss: 0.07669594883918762\n",
      "Epoch:18, Loss: 0.07661505043506622\n",
      "Epoch:18, Loss: 0.07653461396694183\n",
      "Epoch:18, Loss: 0.07645464688539505\n",
      "Epoch:18, Loss: 0.07637511938810349\n",
      "Epoch:18, Loss: 0.07629606127738953\n",
      "Epoch:18, Loss: 0.0762174054980278\n",
      "Epoch:18, Loss: 0.07613921165466309\n",
      "Epoch:18, Loss: 0.0760614424943924\n",
      "Epoch:18, Loss: 0.07598411291837692\n",
      "Epoch:19, Loss: 0.07590719312429428\n",
      "Epoch:19, Loss: 0.07583070546388626\n",
      "Epoch:19, Loss: 0.07575464248657227\n",
      "Epoch:19, Loss: 0.0756789818406105\n",
      "Epoch:19, Loss: 0.07560373097658157\n",
      "Epoch:19, Loss: 0.07552888989448547\n",
      "Epoch:19, Loss: 0.07545444369316101\n",
      "Epoch:19, Loss: 0.07538040727376938\n",
      "Epoch:19, Loss: 0.07530675828456879\n",
      "Epoch:19, Loss: 0.07523351907730103\n",
      "Epoch:19, Loss: 0.07516063749790192\n",
      "Epoch:19, Loss: 0.07508815824985504\n",
      "Epoch:19, Loss: 0.07501605898141861\n",
      "Epoch:19, Loss: 0.07494433969259262\n",
      "Epoch:19, Loss: 0.07487298548221588\n",
      "Epoch:20, Loss: 0.07480200380086899\n",
      "Epoch:20, Loss: 0.07473138719797134\n",
      "Epoch:20, Loss: 0.07466115057468414\n",
      "Epoch:20, Loss: 0.074591264128685\n",
      "Epoch:20, Loss: 0.07452172785997391\n",
      "Epoch:20, Loss: 0.07445257157087326\n",
      "Epoch:20, Loss: 0.07438374310731888\n",
      "Epoch:20, Loss: 0.07431527227163315\n",
      "Epoch:20, Loss: 0.07424715161323547\n",
      "Epoch:20, Loss: 0.07417937368154526\n",
      "Epoch:20, Loss: 0.0741119235754013\n",
      "Epoch:20, Loss: 0.07404481619596481\n",
      "Epoch:20, Loss: 0.07397804409265518\n",
      "Epoch:20, Loss: 0.07391161471605301\n",
      "Epoch:20, Loss: 0.07384549826383591\n"
     ]
    }
   ],
   "source": [
    "model = MySimpleNN(X_train_tensor.shape[1])\n",
    "\n",
    "optimizer = torch.optim.SGD(model.parameters(),lr=learning_rate)\n",
    "\n",
    "#define loop \n",
    "for epoch in range(epochs):\n",
    "\n",
    "    for batch_features, batch_labels in train_loader: \n",
    "#forward pass \n",
    "        y_pred = model(X_train_tensor)\n",
    "        \n",
    "    #loss calculate \n",
    "        loss = loss_function(y_pred, y_train_tensor.reshape(-1,1))\n",
    "    \n",
    "        optimizer.zero_grad()\n",
    "    #backward pass \n",
    "        loss.backward()\n",
    "    # parameter update\n",
    "        optimizer.step()\n",
    "\n",
    "    \n",
    "    \n",
    "        print(f\"Epoch:{epoch+1}, Loss: {loss.item()}\")"
   ]
  },
  {
   "cell_type": "code",
   "execution_count": 27,
   "id": "f406238a-52a7-4029-bd5a-e6cc36a17f9e",
   "metadata": {},
   "outputs": [
    {
     "data": {
      "text/plain": [
       "Parameter containing:\n",
       "tensor([[ 0.4010,  0.5397,  0.4025,  0.5567,  0.2592,  0.1912,  0.3354,  0.5240,\n",
       "          0.2162, -0.2865,  0.5506, -0.1959,  0.5437,  0.6132,  0.0643, -0.3539,\n",
       "         -0.0880,  0.0011, -0.1551, -0.2386,  0.5488,  0.6988,  0.6897,  0.6746,\n",
       "          0.3850,  0.3606,  0.4064,  0.4487,  0.2468,  0.0328]],\n",
       "       requires_grad=True)"
      ]
     },
     "execution_count": 27,
     "metadata": {},
     "output_type": "execute_result"
    }
   ],
   "source": [
    "model.linear.weight"
   ]
  },
  {
   "cell_type": "code",
   "execution_count": 30,
   "id": "fe866f24-cc3e-44a0-9566-9a3b98b5ce89",
   "metadata": {},
   "outputs": [
    {
     "name": "stderr",
     "output_type": "stream",
     "text": [
      "C:\\Users\\ACER\\AppData\\Local\\Temp\\ipykernel_20948\\4291323717.py:1: UserWarning: To copy construct from a tensor, it is recommended to use sourceTensor.clone().detach() or sourceTensor.clone().detach().requires_grad_(True), rather than torch.tensor(sourceTensor).\n",
      "  X_test_tensor = torch.tensor(X_test_tensor, dtype=torch.float32)\n"
     ]
    }
   ],
   "source": [
    "X_test_tensor = torch.tensor(X_test_tensor, dtype=torch.float32)"
   ]
  },
  {
   "cell_type": "code",
   "execution_count": 39,
   "id": "75b53bb8-7993-4ca7-9881-20039434c889",
   "metadata": {},
   "outputs": [
    {
     "data": {
      "text/plain": [
       "torch.float64"
      ]
     },
     "execution_count": 39,
     "metadata": {},
     "output_type": "execute_result"
    }
   ],
   "source": []
  },
  {
   "cell_type": "code",
   "execution_count": 40,
   "id": "393f7cfa-9a15-4891-b995-7f1585bbcf2c",
   "metadata": {},
   "outputs": [
    {
     "name": "stdout",
     "output_type": "stream",
     "text": [
      "0.9626736044883728\n"
     ]
    },
    {
     "name": "stderr",
     "output_type": "stream",
     "text": [
      "C:\\Users\\ACER\\AppData\\Local\\Temp\\ipykernel_20948\\639871083.py:5: UserWarning: To copy construct from a tensor, it is recommended to use sourceTensor.clone().detach() or sourceTensor.clone().detach().requires_grad_(True), rather than torch.tensor(sourceTensor).\n",
      "  batch_features = torch.tensor(batch_features, dtype = torch.float32)\n"
     ]
    }
   ],
   "source": [
    "model.eval()\n",
    "accuracy_list = []\n",
    "with torch.no_grad(): \n",
    "    for batch_features, batch_labels in test_loader: \n",
    "        batch_features = torch.tensor(batch_features, dtype = torch.float32)\n",
    "        y_pred = model(batch_features)\n",
    "        y_pred = (y_pred > 0.5).float()\n",
    "\n",
    "        batch_accuracy = (y_pred.view(-1)==batch_labels).float().mean().item()\n",
    "        accuracy_list.append(batch_accuracy)\n",
    "\n",
    "overall_accuracy = sum(accuracy_list)/len(accuracy_list)\n",
    "print(overall_accuracy)\n"
   ]
  },
  {
   "cell_type": "code",
   "execution_count": null,
   "id": "19f82574-5127-471e-bc72-030978d5deca",
   "metadata": {},
   "outputs": [],
   "source": []
  }
 ],
 "metadata": {
  "kernelspec": {
   "display_name": "Python 3 (ipykernel)",
   "language": "python",
   "name": "python3"
  },
  "language_info": {
   "codemirror_mode": {
    "name": "ipython",
    "version": 3
   },
   "file_extension": ".py",
   "mimetype": "text/x-python",
   "name": "python",
   "nbconvert_exporter": "python",
   "pygments_lexer": "ipython3",
   "version": "3.12.6"
  }
 },
 "nbformat": 4,
 "nbformat_minor": 5
}
